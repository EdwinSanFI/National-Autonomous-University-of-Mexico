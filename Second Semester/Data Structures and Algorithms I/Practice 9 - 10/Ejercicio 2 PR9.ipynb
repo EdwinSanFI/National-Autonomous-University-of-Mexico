{
  "nbformat": 4,
  "nbformat_minor": 0,
  "metadata": {
    "colab": {
      "name": "Ejercicio 2 PR9.ipynb",
      "provenance": []
    },
    "kernelspec": {
      "name": "python3",
      "display_name": "Python 3"
    },
    "language_info": {
      "name": "python"
    }
  },
  "cells": [
    {
      "cell_type": "code",
      "metadata": {
        "id": "kFH69FwdKDa3"
      },
      "source": [
        "#Funcion que convierte la unidad de Pies a Metros.\n",
        "def piesAMetros(pies):\n",
        "  #El parametro es el valor en Pies\n",
        "  return round(pies * 0.3048,2) #Se retorna el valor en Metros"
      ],
      "execution_count": null,
      "outputs": []
    },
    {
      "cell_type": "code",
      "metadata": {
        "id": "EmEbaGKbIF2q"
      },
      "source": [
        "#Funcion que convierte la unidad de Metros a Pies.\n",
        "def metrosAPies(metros):\n",
        "  #El parametro es el valor en Metros\n",
        "  return round(metros * 3.28084,2) #Se retorna el valor en Pies\n"
      ],
      "execution_count": null,
      "outputs": []
    },
    {
      "cell_type": "code",
      "metadata": {
        "id": "h3jeb2b8IGwn"
      },
      "source": [
        "#Funcion que convierte la unidad de Centigrados a Fahrenheit.\n",
        "def centigradosAFahrenheit(centigrados):\n",
        "  #El parametro es el valor en Centigrados\n",
        "  return (round((centigrados * 9/5) + 32, 2)) #Se retorna el valor en Fahrenheit\n"
      ],
      "execution_count": null,
      "outputs": []
    },
    {
      "cell_type": "code",
      "metadata": {
        "id": "92Abw6fSIHr3"
      },
      "source": [
        "#Funcion que convierte la unidad de Fahrenheit a Centigrados.\n",
        "def fahrenheitACentigrados(fahrenheit):\n",
        "  #El parametro es el valor en Fahrenheit\n",
        "  return (round((fahrenheit - 32) * 5/9, 2)) #Se retorna el valor en Centigrados"
      ],
      "execution_count": null,
      "outputs": []
    },
    {
      "cell_type": "code",
      "metadata": {
        "colab": {
          "base_uri": "https://localhost:8080/"
        },
        "id": "WpyONKepFf6M",
        "outputId": "ae350f7f-dbac-4e5f-8001-f56c35ceb6fa"
      },
      "source": [
        "print(\"Se utiliza y se pasa como parametro el valor de 15 para cada funcion\")\n",
        "print(\"Metros: \" + str(piesAMetros(15)))\n",
        "print(\"Pies: \" + str(metrosAPies(15)))\n",
        "print(\"Fahrenheit: \" + str(centigradosAFahrenheit(15)))\n",
        "print(\"Centigrados: \" + str(fahrenheitACentigrados(15)))"
      ],
      "execution_count": null,
      "outputs": [
        {
          "output_type": "stream",
          "text": [
            "Se utiliza y se pasa como parametro el valor de 15 para cada funcion\n",
            "Metros: 4.57\n",
            "Pies: 49.21\n",
            "Fahrenheit: 59.0\n",
            "Centigrados: -9.44\n"
          ],
          "name": "stdout"
        }
      ]
    },
    {
      "cell_type": "code",
      "metadata": {
        "id": "HIJ1J-uzJ1xG"
      },
      "source": [
        ""
      ],
      "execution_count": null,
      "outputs": []
    }
  ]
}